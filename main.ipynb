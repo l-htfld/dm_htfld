{
 "cells": [
  {
   "cell_type": "code",
   "execution_count": 1,
   "metadata": {},
   "outputs": [
    {
     "name": "stdout",
     "output_type": "stream",
     "text": [
      "pygame 2.6.1 (SDL 2.28.4, Python 3.12.3)\n",
      "Hello from the pygame community. https://www.pygame.org/contribute.html\n"
     ]
    }
   ],
   "source": [
    "import pygame\n",
    "from entities import Hero, Enemy"
   ]
  },
  {
   "cell_type": "code",
   "execution_count": null,
   "metadata": {},
   "outputs": [],
   "source": [
    "print()"
   ]
  },
  {
   "cell_type": "code",
   "execution_count": 2,
   "metadata": {},
   "outputs": [],
   "source": [
    "# Инициализация Pygame\n",
    "pygame.init()\n",
    "\n",
    "# Настройки экрана\n",
    "SCREEN_WIDTH = 1280\n",
    "SCREEN_HEIGHT = 720\n",
    "screen = pygame.display.set_mode((SCREEN_WIDTH, SCREEN_HEIGHT))\n",
    "pygame.display.set_caption(\"Dungeon Sandbox\")\n",
    "\n",
    "# Цвета\n",
    "WHITE = (255, 255, 255)\n",
    "GREEN = (0, 128, 0)\n",
    "\n",
    "# Скорость передвижения героя\n",
    "HERO_SPEED = 0.5\n",
    "\n",
    "# Создание главного героя\n",
    "hero = Hero(hp=100, power=20, protect=5)\n",
    "hero_x, hero_y = 100, 100  # Начальная позиция героя\n",
    "\n",
    "# Главный игровой цикл\n",
    "running = True\n",
    "while running:\n",
    "    screen.fill(WHITE)  # Очистка экрана\n",
    "\n",
    "    for event in pygame.event.get():\n",
    "        if event.type == pygame.QUIT:\n",
    "            running = False\n",
    "\n",
    "    # Получаем все нажатия клавиш\n",
    "    keys = pygame.key.get_pressed()\n",
    "\n",
    "    # Движение героя\n",
    "    if keys[pygame.K_LEFT]:\n",
    "        hero_x -= HERO_SPEED\n",
    "    if keys[pygame.K_RIGHT]:\n",
    "        hero_x += HERO_SPEED\n",
    "    if keys[pygame.K_UP]:\n",
    "        hero_y -= HERO_SPEED\n",
    "    if keys[pygame.K_DOWN]:\n",
    "        hero_y += HERO_SPEED\n",
    "\n",
    "    # Отрисовка героя (зеленый квадрат)\n",
    "    pygame.draw.rect(screen, GREEN, pygame.Rect(hero_x, hero_y, 50, 50))\n",
    "\n",
    "    pygame.display.flip()  # Обновление экрана\n",
    "\n",
    "pygame.quit()\n"
   ]
  },
  {
   "cell_type": "code",
   "execution_count": null,
   "metadata": {},
   "outputs": [],
   "source": []
  }
 ],
 "metadata": {
  "kernelspec": {
   "display_name": "Python 3",
   "language": "python",
   "name": "python3"
  },
  "language_info": {
   "codemirror_mode": {
    "name": "ipython",
    "version": 3
   },
   "file_extension": ".py",
   "mimetype": "text/x-python",
   "name": "python",
   "nbconvert_exporter": "python",
   "pygments_lexer": "ipython3",
   "version": "3.12.3"
  }
 },
 "nbformat": 4,
 "nbformat_minor": 2
}
